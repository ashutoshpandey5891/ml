{
 "cells": [
  {
   "cell_type": "code",
   "execution_count": null,
   "metadata": {},
   "outputs": [],
   "source": [
    "def plot_roc_curve(model,X,y):\n",
    "    probs = model.predict_proba(X)\n",
    "    y_hot = pd.get_dummies(y).astype(int)\n",
    "    for i in range(probs.shape[1]):\n",
    "        preds = probs[:,i]\n",
    "        fpr,tpr,_ = metrics.roc_curve(y_hot.iloc[:,i])\n"
   ]
  }
 ],
 "metadata": {
  "language_info": {
   "name": "python"
  },
  "orig_nbformat": 4
 },
 "nbformat": 4,
 "nbformat_minor": 2
}
