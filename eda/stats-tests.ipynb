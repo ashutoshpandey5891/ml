{
 "cells": [
  {
   "attachments": {},
   "cell_type": "markdown",
   "metadata": {},
   "source": [
    "#### Pearson’s Chi Square Test\n",
    "\n",
    "used to check whether two categorical variables are related or independent. And, it is assumed that the observations used in the calculation of the contingency table are independent."
   ]
  },
  {
   "cell_type": "code",
   "execution_count": 5,
   "metadata": {},
   "outputs": [],
   "source": [
    "# from scipy.stats import chi2_contingency\n",
    "\n",
    "# table = pd.crosstab(c1,c2,margins=True,margins_name='Total')\n",
    "# stat,p,dof,expected=chi2_contingency(table)"
   ]
  },
  {
   "attachments": {},
   "cell_type": "markdown",
   "metadata": {},
   "source": [
    "##### <u>Tests For Normality</u>"
   ]
  },
  {
   "attachments": {},
   "cell_type": "markdown",
   "metadata": {},
   "source": [
    "##### Visual Tests\n",
    "\n",
    "a) Histogram Plot\n",
    "\n",
    "A sample of data has a Gaussian distribution of the histogram plot, showing the familiar bell shape.\n",
    "\n",
    "A histogram can be created using the hist() matplotlib function. By default, the number of bins is automatically estimated from the data sample."
   ]
  },
  {
   "cell_type": "code",
   "execution_count": 1,
   "metadata": {},
   "outputs": [],
   "source": [
    "import matplotlib.pyplot as plt\n",
    "\n",
    "def plot_hist(values):\n",
    "    plt.hist(values)\n",
    "    plt.title('Histogram Plot for checking Distribution')\n",
    "    plt.show()\n",
    "    return "
   ]
  },
  {
   "attachments": {},
   "cell_type": "markdown",
   "metadata": {},
   "source": [
    "b) Quantile-Quantile Plot\n",
    "\n"
   ]
  },
  {
   "attachments": {},
   "cell_type": "markdown",
   "metadata": {},
   "source": [
    "##### a) Shapiro-Wilk Test\n",
    "\n",
    "Tests whether a data sample has a Gaussian distribution.\n",
    "\n",
    "Assumptions\n",
    "<br>\n",
    "1) Observations in each sample are independent and identically distributed (iid).\n",
    "\n",
    "Interpretation\n",
    "<ul>\n",
    "<li>H0 (p > alpha) : the sample has a Gaussian distribution.</li>\n",
    "<li>H1 (p < alpha) : the sample does not have a Gaussian distribution.</li>\n",
    "</ul>\n",
    "\n",
    "more info : https://machinelearningmastery.com/a-gentle-introduction-to-normality-tests-in-python/"
   ]
  },
  {
   "cell_type": "code",
   "execution_count": 6,
   "metadata": {},
   "outputs": [],
   "source": [
    "from scipy.stats import shapiro\n",
    "\n",
    "## data -> array/list of values\n",
    "def shapiro_normal_test(values):\n",
    "    stat,p = shapiro(values)\n",
    "    return stat,p"
   ]
  },
  {
   "attachments": {},
   "cell_type": "markdown",
   "metadata": {},
   "source": [
    "##### D'Agostino's K^2 Test\n",
    "\n",
    "Tests whether a data sample has a Gaussian distribution.\n",
    "\n",
    "Assumptions\n",
    "<br>\n",
    "1) Observations in each sample are independent and identically distributed (iid).\n",
    "\n",
    "Interpretation\n",
    "<ul>\n",
    "<li>H0 (p > alpha) : the sample has a Gaussian distribution.</li>\n",
    "<li>H1 (p < alpha) : the sample does not have a Gaussian distribution.</li>\n",
    "</ul>\n",
    "\n",
    "more info : https://machinelearningmastery.com/a-gentle-introduction-to-normality-tests-in-python/"
   ]
  },
  {
   "cell_type": "code",
   "execution_count": 7,
   "metadata": {},
   "outputs": [],
   "source": [
    "from scipy.stats import normaltest\n",
    "\n",
    "## data -> array/list of values\n",
    "def dagostino_normal_test(values):\n",
    "    stat,p = normaltest(values)\n",
    "    return stat,p"
   ]
  },
  {
   "attachments": {},
   "cell_type": "markdown",
   "metadata": {},
   "source": [
    "##### Anderson Darling Test\n",
    "\n",
    "Tests whether a data sample has a Gaussian distribution.\n",
    "\n",
    "Assumptions\n",
    "<br>\n",
    "1) Observations in each sample are independent and identically distributed (iid).\n",
    "\n",
    "Interpretation\n",
    "<ul>\n",
    "<li>H0 (p > alpha) : the sample has a Gaussian distribution.</li>\n",
    "<li>H1 (p < alpha) : the sample does not have a Gaussian distribution.</li>\n",
    "</ul>\n",
    "\n",
    "more info : https://machinelearningmastery.com/a-gentle-introduction-to-normality-tests-in-python/"
   ]
  },
  {
   "cell_type": "code",
   "execution_count": 8,
   "metadata": {},
   "outputs": [],
   "source": [
    "from scipy.stats import anderson\n",
    "\n",
    "def anderson_normal_test(values):\n",
    "    result = anderson(values)\n",
    "    alpha_p_list = [(result.significance_level[i],result.critical_values[i]) for i in range(len(result.critical_values))]\n",
    "    return alpha_p_list"
   ]
  },
  {
   "cell_type": "code",
   "execution_count": null,
   "metadata": {},
   "outputs": [],
   "source": []
  }
 ],
 "metadata": {
  "kernelspec": {
   "display_name": "Python 3 (ipykernel)",
   "language": "python",
   "name": "python3"
  },
  "language_info": {
   "codemirror_mode": {
    "name": "ipython",
    "version": 3
   },
   "file_extension": ".py",
   "mimetype": "text/x-python",
   "name": "python",
   "nbconvert_exporter": "python",
   "pygments_lexer": "ipython3",
   "version": "3.10.6"
  },
  "orig_nbformat": 4,
  "vscode": {
   "interpreter": {
    "hash": "1f2ac25b4a6d870602abfa5d74e7d6f1ae274ba9e86645830384575c0e5c89f3"
   }
  }
 },
 "nbformat": 4,
 "nbformat_minor": 2
}
