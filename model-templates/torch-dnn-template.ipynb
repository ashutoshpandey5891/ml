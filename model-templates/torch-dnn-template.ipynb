{
 "cells": [
  {
   "cell_type": "code",
   "execution_count": null,
   "metadata": {},
   "outputs": [],
   "source": [
    "import torch \n",
    "import torch.nn as nn\n",
    "import torch.utils.data as td\n",
    "\n",
    "torch.manual_seed(0)\n",
    "print(\"Libraries imported - ready to use PyTorch\", torch.__version__)"
   ]
  },
  {
   "cell_type": "code",
   "execution_count": null,
   "metadata": {},
   "outputs": [],
   "source": [
    "tensor_x = torch.Tensor(train_x_vals).float()\n",
    "tensor_y = torch.Tensor(train_y_vals).float()\n",
    "train_ds = td.TensorDataset(tensor_x,tensor_y)\n",
    "train_loader = td.DataLoader(train_ds,batch_size=20,shuffle=True)\n",
    "print(train_loader)\n",
    "\n",
    "tensor_x_test = torch.Tensor(test_x_vals).float()\n",
    "tensor_y_test = torch.Tensor(test_y_vals).float()\n",
    "test_ds = td.TensorDataset(tensor_x_test,tensor_y_test)\n",
    "test_loader = td.DataLoader(test_ds,shuffle=False,batch_size=20)\n",
    "print(test_loader)"
   ]
  },
  {
   "cell_type": "code",
   "execution_count": null,
   "metadata": {},
   "outputs": [],
   "source": [
    "class NeuralNet(nn.Module):\n",
    "    def __init__(self):\n",
    "        super(NeuralNet,self).__init__()\n",
    "        self.fc1 = nn.Linear(train_x_vals.shape[1],10)\n",
    "        self.fc2 = nn.Linear(10,20)\n",
    "        self.fc3 = nn.Linear(20,10)\n",
    "        self.fc4 = nn.Linear(10,train_y.shape[1])\n",
    "        \n",
    "    def forward(self,X):\n",
    "        out = torch.relu(self.fc1(X))\n",
    "        out = torch.relu(self.fc2(out))\n",
    "        out = torch.relu(self.fc3(out))\n",
    "        out = self.fc4(out)\n",
    "        return out"
   ]
  },
  {
   "cell_type": "code",
   "execution_count": null,
   "metadata": {},
   "outputs": [],
   "source": [
    "def train(model,data_loader,optimizer,criterion):\n",
    "    model.train()\n",
    "    train_loss = 0\n",
    "    \n",
    "    for batch,tensor in enumerate(data_loader):\n",
    "        data,target = tensor\n",
    "        \n",
    "        ## reset optimizer\n",
    "        optimizer.zero_grad()\n",
    "        \n",
    "        ## forward propagation\n",
    "        out = model(data)\n",
    "#         print(data,target,out)\n",
    "#         print('-------------------------')\n",
    "        loss = criterion(out,target)\n",
    "        train_loss += loss.item()\n",
    "#         print(batch,train_loss)\n",
    "        ## back propagation\n",
    "        loss.backward()\n",
    "        optimizer.step()\n",
    "        \n",
    "    avg_loss = train_loss/(batch+1)\n",
    "    return avg_loss\n",
    "\n",
    "def test(model,data_loader,criterion):\n",
    "    model.eval()\n",
    "    test_loss = 0\n",
    "    correct = 0\n",
    "    \n",
    "    for batch,tensor in enumerate(data_loader):\n",
    "        data,target = tensor\n",
    "        out = model(data)\n",
    "        loss = criterion(out,target)\n",
    "        test_loss += loss.item()\n",
    "        \n",
    "        predicted = out > 0.5\n",
    "        correct += torch.sum(predicted == target).item()\n",
    "    acc = correct/len(data_loader.dataset)\n",
    "    avg_loss = test_loss/(batch+1)\n",
    "    return avg_loss,acc"
   ]
  },
  {
   "cell_type": "code",
   "execution_count": null,
   "metadata": {},
   "outputs": [],
   "source": [
    "N_EPOCHS = 100\n",
    "criterion = nn.BCEWithLogitsLoss()\n",
    "learn_rate = 0.01\n",
    "optimizer = torch.optim.Adam(model.parameters(),learn_rate)\n",
    "model = NeuralNet()\n",
    "print(model)\n",
    "\n",
    "\n",
    "train_losses = []\n",
    "test_losses = []\n",
    "test_acces = []\n",
    "\n",
    "for epoch in range(N_EPOCHS):\n",
    "    tr_loss = train(model,train_loader,optimizer,criterion)\n",
    "    te_loss,te_acc = test(model,test_loader,criterion)\n",
    "    train_losses.append(tr_loss)\n",
    "    test_losses.append(te_loss)\n",
    "    test_acces.append(te_acc)\n",
    "    if epoch % 10 == 0: \n",
    "        print(f'Epoch : {epoch},train loss : {tr_loss},test acc : {te_acc},test loss : {te_loss}')"
   ]
  }
 ],
 "metadata": {
  "language_info": {
   "name": "python"
  },
  "orig_nbformat": 4
 },
 "nbformat": 4,
 "nbformat_minor": 2
}
