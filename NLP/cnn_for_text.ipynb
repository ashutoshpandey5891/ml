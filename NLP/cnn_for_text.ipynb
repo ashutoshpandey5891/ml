{
 "cells": [
  {
   "cell_type": "code",
   "execution_count": 1,
   "metadata": {},
   "outputs": [],
   "source": [
    "import os,time\n",
    "import numpy as np\n",
    "import pandas as pd\n",
    "import matplotlib.pyplot as plt\n",
    "\n",
    "%matplotlib inline"
   ]
  },
  {
   "cell_type": "code",
   "execution_count": 2,
   "metadata": {},
   "outputs": [
    {
     "name": "stdout",
     "output_type": "stream",
     "text": [
      "(5572, 2)\n"
     ]
    },
    {
     "data": {
      "text/html": [
       "<div>\n",
       "<style scoped>\n",
       "    .dataframe tbody tr th:only-of-type {\n",
       "        vertical-align: middle;\n",
       "    }\n",
       "\n",
       "    .dataframe tbody tr th {\n",
       "        vertical-align: top;\n",
       "    }\n",
       "\n",
       "    .dataframe thead th {\n",
       "        text-align: right;\n",
       "    }\n",
       "</style>\n",
       "<table border=\"1\" class=\"dataframe\">\n",
       "  <thead>\n",
       "    <tr style=\"text-align: right;\">\n",
       "      <th></th>\n",
       "      <th>text</th>\n",
       "      <th>labels</th>\n",
       "    </tr>\n",
       "  </thead>\n",
       "  <tbody>\n",
       "    <tr>\n",
       "      <th>0</th>\n",
       "      <td>Go until jurong point, crazy.. Available only ...</td>\n",
       "      <td>0</td>\n",
       "    </tr>\n",
       "    <tr>\n",
       "      <th>1</th>\n",
       "      <td>Ok lar... Joking wif u oni...</td>\n",
       "      <td>0</td>\n",
       "    </tr>\n",
       "    <tr>\n",
       "      <th>2</th>\n",
       "      <td>Free entry in 2 a wkly comp to win FA Cup fina...</td>\n",
       "      <td>1</td>\n",
       "    </tr>\n",
       "    <tr>\n",
       "      <th>3</th>\n",
       "      <td>U dun say so early hor... U c already then say...</td>\n",
       "      <td>0</td>\n",
       "    </tr>\n",
       "    <tr>\n",
       "      <th>4</th>\n",
       "      <td>Nah I don't think he goes to usf, he lives aro...</td>\n",
       "      <td>0</td>\n",
       "    </tr>\n",
       "  </tbody>\n",
       "</table>\n",
       "</div>"
      ],
      "text/plain": [
       "                                                text  labels\n",
       "0  Go until jurong point, crazy.. Available only ...       0\n",
       "1                      Ok lar... Joking wif u oni...       0\n",
       "2  Free entry in 2 a wkly comp to win FA Cup fina...       1\n",
       "3  U dun say so early hor... U c already then say...       0\n",
       "4  Nah I don't think he goes to usf, he lives aro...       0"
      ]
     },
     "execution_count": 2,
     "metadata": {},
     "output_type": "execute_result"
    }
   ],
   "source": [
    "spam_data = pd.read_csv('../data/spam.csv',encoding='ISO-8859-1')\n",
    "# spam_data.head()\n",
    "spam_data['labels'] = spam_data['v1'].map({'ham':0,'spam':1})\n",
    "spam_data = spam_data.drop(['Unnamed: 2','Unnamed: 3','Unnamed: 4','v1'],axis=1)\n",
    "spam_data.columns = ['text','labels']\n",
    "print(spam_data.shape)\n",
    "spam_data.head()"
   ]
  },
  {
   "cell_type": "code",
   "execution_count": 3,
   "metadata": {},
   "outputs": [],
   "source": [
    "spam_data.to_csv('spam_data.csv',index = False)"
   ]
  },
  {
   "cell_type": "code",
   "execution_count": 4,
   "metadata": {},
   "outputs": [],
   "source": [
    "import torchtext.data as ttd\n",
    "import torch\n",
    "import torch.nn as nn\n",
    "import torch.nn.functional as F\n",
    "from torchsummary import summary"
   ]
  },
  {
   "cell_type": "code",
   "execution_count": 5,
   "metadata": {},
   "outputs": [],
   "source": [
    "TEXT = ttd.Field(sequential = True,batch_first = True,lower = True,pad_first = True)\n",
    "LABEL = ttd.Field(sequential = False,use_vocab=False,is_target = True)"
   ]
  },
  {
   "cell_type": "code",
   "execution_count": 6,
   "metadata": {},
   "outputs": [],
   "source": [
    "dataset = ttd.TabularDataset(\n",
    "    path = 'spam_data.csv',\n",
    "    format = 'csv',\n",
    "    skip_header = True,\n",
    "    fields = [('text',TEXT),('labels',LABEL)]\n",
    ")"
   ]
  },
  {
   "cell_type": "code",
   "execution_count": 7,
   "metadata": {},
   "outputs": [
    {
     "name": "stdout",
     "output_type": "stream",
     "text": [
      "['go', 'until', 'jurong', 'point,', 'crazy..', 'available', 'only', 'in', 'bugis', 'n', 'great', 'world', 'la', 'e', 'buffet...', 'cine', 'there', 'got', 'amore', 'wat...'] 0\n",
      "20\n",
      "['ok', 'lar...', 'joking', 'wif', 'u', 'oni...'] 0\n",
      "6\n",
      "['free', 'entry', 'in', '2', 'a', 'wkly', 'comp', 'to', 'win', 'fa', 'cup', 'final', 'tkts', '21st', 'may', '2005.', 'text', 'fa', 'to', '87121', 'to', 'receive', 'entry', 'question(std', 'txt', \"rate)t&c's\", 'apply', \"08452810075over18's\"] 1\n",
      "28\n",
      "['u', 'dun', 'say', 'so', 'early', 'hor...', 'u', 'c', 'already', 'then', 'say...'] 0\n",
      "11\n",
      "['nah', 'i', \"don't\", 'think', 'he', 'goes', 'to', 'usf,', 'he', 'lives', 'around', 'here', 'though'] 0\n",
      "13\n"
     ]
    }
   ],
   "source": [
    "for text in dataset.examples[:5]:\n",
    "    print(text.text,text.labels)\n",
    "    print(len(text.text))"
   ]
  },
  {
   "cell_type": "code",
   "execution_count": 8,
   "metadata": {},
   "outputs": [
    {
     "name": "stdout",
     "output_type": "stream",
     "text": [
      "4458 1114\n"
     ]
    }
   ],
   "source": [
    "train_data,test_data = dataset.split(0.8)\n",
    "print(len(train_data),len(test_data))"
   ]
  },
  {
   "cell_type": "code",
   "execution_count": 9,
   "metadata": {},
   "outputs": [],
   "source": [
    "TEXT.build_vocab(train_data)\n",
    "vocab = TEXT.vocab\n",
    "stoi = vocab.stoi\n",
    "itos = vocab.itos"
   ]
  },
  {
   "cell_type": "code",
   "execution_count": 10,
   "metadata": {},
   "outputs": [
    {
     "name": "stdout",
     "output_type": "stream",
     "text": [
      "cuda\n"
     ]
    }
   ],
   "source": [
    "DEVICE = torch.device('cuda' if torch.cuda.is_available() else 'cpu')\n",
    "TRAIN_BATCH_SIZE = 64\n",
    "TEST_BATCH_SIZE = 32\n",
    "EMBED_DIM = 50\n",
    "N_OUTPUT = 1 # spam or ham\n",
    "print(DEVICE)"
   ]
  },
  {
   "cell_type": "code",
   "execution_count": 11,
   "metadata": {},
   "outputs": [],
   "source": [
    "train_iter,test_iter = ttd.Iterator.splits(\n",
    "    (train_data,test_data),\n",
    "    sort_key=lambda x: len(x.text),\n",
    "    batch_sizes = (TRAIN_BATCH_SIZE,TEST_BATCH_SIZE),\n",
    "    device = DEVICE\n",
    ")"
   ]
  },
  {
   "cell_type": "code",
   "execution_count": 12,
   "metadata": {},
   "outputs": [
    {
     "name": "stdout",
     "output_type": "stream",
     "text": [
      "torch.Size([64, 55]) torch.Size([64])\n"
     ]
    }
   ],
   "source": [
    "for data,target in train_iter:\n",
    "    print(data.shape,target.shape)\n",
    "    break"
   ]
  },
  {
   "cell_type": "code",
   "execution_count": 13,
   "metadata": {},
   "outputs": [],
   "source": [
    "## CUSTOM CNN MODEL\n",
    "class CustomCNN(nn.Module):\n",
    "    def __init__(self,n_vocab,embed_dim,n_output):\n",
    "        super(CustomCNN,self).__init__()\n",
    "        self.V = n_vocab\n",
    "        self.embed_dim = embed_dim\n",
    "        self.K = n_output\n",
    "        \n",
    "        ## embedding layer\n",
    "        self.embed_layer = nn.Embedding(self.V,self.embed_dim)\n",
    "        \n",
    "        ## conv layers\n",
    "        self.conv1 = nn.Conv1d(self.embed_dim,32,3,padding = 1)\n",
    "        self.pool1 = nn.MaxPool1d(1)\n",
    "        self.conv2 = nn.Conv1d(32,64,3,padding = 1)\n",
    "        self.pool2 = nn.MaxPool1d(1)\n",
    "        self.conv3 = nn.Conv1d(64,128,3,padding = 1)\n",
    "        self.pool3 = nn.MaxPool1d(1)\n",
    "        \n",
    "        ## dense layers\n",
    "        self.fc = nn.Linear(128,self.K)\n",
    "        \n",
    "    def forward(self,X):\n",
    "        # X -> NxT torch tensor\n",
    "        out = self.embed_layer(X) # out -> NxTxD\n",
    "        \n",
    "        # permute to make features first for convs\n",
    "        out = out.permute(0,2,1)\n",
    "        out = self.conv1(out)\n",
    "        out = F.relu(out)\n",
    "        out = self.pool1(out)\n",
    "        out = self.conv2(out)\n",
    "        out = F.relu(out)\n",
    "        out = self.pool2(out)\n",
    "        out = self.conv3(out)\n",
    "        out = F.relu(out)\n",
    "        out = self.pool3(out)\n",
    "        \n",
    "        out = out.permute(0,2,1) # permute to make features last\n",
    "        out,_ = torch.max(out,1)\n",
    "        \n",
    "        out = self.fc(out)\n",
    "        return out"
   ]
  },
  {
   "cell_type": "code",
   "execution_count": 14,
   "metadata": {},
   "outputs": [],
   "source": [
    "cnn_model = CustomCNN(len(vocab),EMBED_DIM,N_OUTPUT).to(DEVICE)"
   ]
  },
  {
   "cell_type": "code",
   "execution_count": 15,
   "metadata": {},
   "outputs": [
    {
     "name": "stdout",
     "output_type": "stream",
     "text": [
      "<torchtext.data.iterator.Iterator object at 0x7f70fa5c1908> <torchtext.data.iterator.Iterator object at 0x7f70fa5c1940>\n",
      "CustomCNN(\n",
      "  (embed_layer): Embedding(11681, 50)\n",
      "  (conv1): Conv1d(50, 32, kernel_size=(3,), stride=(1,), padding=(1,))\n",
      "  (pool1): MaxPool1d(kernel_size=1, stride=1, padding=0, dilation=1, ceil_mode=False)\n",
      "  (conv2): Conv1d(32, 64, kernel_size=(3,), stride=(1,), padding=(1,))\n",
      "  (pool2): MaxPool1d(kernel_size=1, stride=1, padding=0, dilation=1, ceil_mode=False)\n",
      "  (conv3): Conv1d(64, 128, kernel_size=(3,), stride=(1,), padding=(1,))\n",
      "  (pool3): MaxPool1d(kernel_size=1, stride=1, padding=0, dilation=1, ceil_mode=False)\n",
      "  (fc): Linear(in_features=128, out_features=1, bias=True)\n",
      ")\n"
     ]
    }
   ],
   "source": [
    "print(train_iter,test_iter)\n",
    "print(cnn_model)"
   ]
  },
  {
   "cell_type": "code",
   "execution_count": 16,
   "metadata": {},
   "outputs": [],
   "source": [
    "criterion = nn.BCEWithLogitsLoss()\n",
    "optimizer = torch.optim.Adam(cnn_model.parameters())"
   ]
  },
  {
   "cell_type": "code",
   "execution_count": 17,
   "metadata": {},
   "outputs": [],
   "source": [
    "def train_model(model,criterion,optim,train_data,test_data,n_epochs):\n",
    "    train_loss_arr = np.zeros(n_epochs)\n",
    "    test_loss_arr = np.zeros(n_epochs)\n",
    "    for epoch in range(n_epochs):\n",
    "        train_losses = []\n",
    "        for data,target in train_iter:\n",
    "#             print(data.shape)\n",
    "            target = target.view(-1,1).float()\n",
    "            optimizer.zero_grad()\n",
    "            out = model(data)\n",
    "            loss = criterion(out,target)\n",
    "            loss.backward()\n",
    "            optimizer.step()\n",
    "            \n",
    "            train_losses.append(loss.item())\n",
    "#             print(loss.item())\n",
    "        train_loss_arr[epoch] = np.mean(train_losses)\n",
    "        \n",
    "        test_losses = []\n",
    "        for data,target in test_iter:\n",
    "            target = target.view(-1,1).float()\n",
    "            out = model(data)\n",
    "            loss = criterion(out,target)\n",
    "            \n",
    "            test_losses.append(loss.item())\n",
    "#         print(np.mean(test_losses))\n",
    "        test_loss_arr[epoch] = np.mean(test_losses)\n",
    "        \n",
    "        print(f'Epoch : {epoch}\\ttrain_loss : {train_loss_arr[epoch]}\\ttest loss : {test_loss_arr[epoch]}')\n",
    "        \n",
    "    return train_loss_arr,test_loss_arr"
   ]
  },
  {
   "cell_type": "code",
   "execution_count": 18,
   "metadata": {},
   "outputs": [
    {
     "name": "stdout",
     "output_type": "stream",
     "text": [
      "Epoch : 0\ttrain_loss : 0.3954566221152033\ttest loss : 0.3991402479154723\n",
      "Epoch : 1\ttrain_loss : 0.32196312546730044\ttest loss : 0.3648718280451638\n",
      "Epoch : 2\ttrain_loss : 0.19561385358018535\ttest loss : 0.3993092632719449\n",
      "Epoch : 3\ttrain_loss : 0.09193435055868966\ttest loss : 0.46620464410100665\n",
      "Epoch : 4\ttrain_loss : 0.048834680626168844\ttest loss : 0.535700713310923\n",
      "Epoch : 5\ttrain_loss : 0.024937043871198383\ttest loss : 0.5097161080156054\n",
      "Epoch : 6\ttrain_loss : 0.012991077775534774\ttest loss : 0.6255449618612017\n",
      "Epoch : 7\ttrain_loss : 0.004582116891729778\ttest loss : 0.735937591109957\n",
      "Epoch : 8\ttrain_loss : 0.002525021668822904\ttest loss : 0.7591059399502618\n",
      "Epoch : 9\ttrain_loss : 0.0010553980132889202\ttest loss : 0.7385927719729287\n",
      "Epoch : 10\ttrain_loss : 0.0005146251399440059\ttest loss : 0.845421188218253\n",
      "Epoch : 11\ttrain_loss : 0.00034985397983941117\ttest loss : 0.8576147649969373\n",
      "Epoch : 12\ttrain_loss : 0.0002600300847136948\ttest loss : 0.874773935335023\n",
      "Epoch : 13\ttrain_loss : 0.00021671520407835488\ttest loss : 0.8790409679923739\n",
      "Epoch : 14\ttrain_loss : 0.00016921886344789527\ttest loss : 0.920648694889886\n",
      "Epoch : 15\ttrain_loss : 0.00013916008054885813\ttest loss : 0.9237227354730878\n",
      "Epoch : 16\ttrain_loss : 0.00017473547078615022\ttest loss : 0.9673436062676566\n",
      "Epoch : 17\ttrain_loss : 0.00010824687306012492\ttest loss : 0.9992955275944301\n",
      "Epoch : 18\ttrain_loss : 8.67251226216987e-05\ttest loss : 0.9982973941734858\n",
      "Epoch : 19\ttrain_loss : 0.0001097441450448449\ttest loss : 0.9832586058548518\n"
     ]
    }
   ],
   "source": [
    "train_loss,test_loss = train_model(cnn_model,criterion,optimizer,train_iter,test_iter,20)"
   ]
  },
  {
   "cell_type": "code",
   "execution_count": 19,
   "metadata": {},
   "outputs": [
    {
     "data": {
      "text/plain": [
       "<matplotlib.legend.Legend at 0x7f70f0eb1710>"
      ]
     },
     "execution_count": 19,
     "metadata": {},
     "output_type": "execute_result"
    },
    {
     "data": {
      "image/png": "[encoded data removed]",
      "text/plain": [
       "<Figure size 432x288 with 1 Axes>"
      ]
     },
     "metadata": {
      "needs_background": "light"
     },
     "output_type": "display_data"
    }
   ],
   "source": [
    "plt.plot(train_loss,label = 'train loss')\n",
    "plt.plot(test_loss, label = 'test losss')\n",
    "plt.legend()"
   ]
  },
  {
   "cell_type": "code",
   "execution_count": 35,
   "metadata": {},
   "outputs": [
    {
     "name": "stdout",
     "output_type": "stream",
     "text": [
      "Compute accuracies\n",
      "4458 4458\n",
      "training accuracy : 1.000000\n",
      "Testing accuracy : 0.8465\n"
     ]
    }
   ],
   "source": [
    "print('Compute accuracies')\n",
    "## train accuracies\n",
    "\n",
    "with torch.no_grad():\n",
    "    n_total,n_correct = 0,0\n",
    "    for data,target in train_iter:\n",
    "        out = cnn_model(data)\n",
    "        preds = (out > 0).view(-1)\n",
    "#         print(preds,target)\n",
    "        n_correct += (preds == target).sum().item()\n",
    "        n_total += target.shape[0]\n",
    "    print(n_correct,n_total)\n",
    "    train_acc = n_correct / n_total\n",
    "    \n",
    "    print('training accuracy : {:.6f}'.format(train_acc))\n",
    "    n_total,n_correct = 0,0\n",
    "    y_test,p_test = [],[]\n",
    "    for data,target in test_iter:\n",
    "        out = cnn_model(data)\n",
    "        preds = (out > 0).view(-1)\n",
    "        p_test += list(preds.to('cpu').numpy())\n",
    "        y_test += list(target.to('cpu').numpy())\n",
    "        n_correct += (preds == target).sum().item()\n",
    "        n_total += target.shape[0]\n",
    "    test_acc = n_correct / n_total\n",
    "    print('Testing accuracy : {:.4f}'.format(test_acc))"
   ]
  },
  {
   "cell_type": "code",
   "execution_count": 36,
   "metadata": {},
   "outputs": [],
   "source": [
    "from sklearn.metrics import confusion_matrix\n",
    "import itertools\n",
    "\n",
    "def plot_confusion_matrix(cm, classes,\n",
    "                          normalize=False,\n",
    "                          title='Confusion matrix',\n",
    "                          cmap=plt.cm.Blues):\n",
    "  \"\"\"\n",
    "  This function prints and plots the confusion matrix.\n",
    "  Normalization can be applied by setting `normalize=True`.\n",
    "  \"\"\"\n",
    "  if normalize:\n",
    "      cm = cm.astype('float') / cm.sum(axis=1)[:, np.newaxis]\n",
    "      print(\"Normalized confusion matrix\")\n",
    "  else:\n",
    "      print('Confusion matrix, without normalization')\n",
    "\n",
    "  print(cm)\n",
    "\n",
    "  plt.imshow(cm, interpolation='nearest', cmap=cmap)\n",
    "  plt.title(title)\n",
    "  plt.colorbar()\n",
    "  tick_marks = np.arange(len(classes))\n",
    "  plt.xticks(tick_marks, classes, rotation=45)\n",
    "  plt.yticks(tick_marks, classes)\n",
    "\n",
    "  fmt = '.2f' if normalize else 'd'\n",
    "  thresh = cm.max() / 2.\n",
    "  for i, j in itertools.product(range(cm.shape[0]), range(cm.shape[1])):\n",
    "      plt.text(j, i, format(cm[i, j], fmt),\n",
    "               horizontalalignment=\"center\",\n",
    "               color=\"white\" if cm[i, j] > thresh else \"black\")\n",
    "\n",
    "  plt.tight_layout()\n",
    "  plt.ylabel('True label')\n",
    "  plt.xlabel('Predicted label')\n",
    "  plt.show()"
   ]
  },
  {
   "cell_type": "code",
   "execution_count": 37,
   "metadata": {},
   "outputs": [],
   "source": [
    "from sklearn.metrics import confusion_matrix"
   ]
  },
  {
   "cell_type": "code",
   "execution_count": 38,
   "metadata": {},
   "outputs": [
    {
     "name": "stdout",
     "output_type": "stream",
     "text": [
      "Confusion matrix, without normalization\n",
      "[[785 164]\n",
      " [  7 158]]\n"
     ]
    },
    {
     "data": {
      "image/png": "[encoded data removed]",
      "text/plain": [
       "<Figure size 432x288 with 2 Axes>"
      ]
     },
     "metadata": {
      "needs_background": "light"
     },
     "output_type": "display_data"
    }
   ],
   "source": [
    "cm = confusion_matrix(y_test,p_test)\n",
    "plot_confusion_matrix(cm,[0,1])\n",
    "# print(len(y_test),len(p_test))"
   ]
  },
  {
   "cell_type": "code",
   "execution_count": 39,
   "metadata": {},
   "outputs": [
    {
     "data": {
      "text/html": [
       "<div>\n",
       "<style scoped>\n",
       "    .dataframe tbody tr th:only-of-type {\n",
       "        vertical-align: middle;\n",
       "    }\n",
       "\n",
       "    .dataframe tbody tr th {\n",
       "        vertical-align: top;\n",
       "    }\n",
       "\n",
       "    .dataframe thead th {\n",
       "        text-align: right;\n",
       "    }\n",
       "</style>\n",
       "<table border=\"1\" class=\"dataframe\">\n",
       "  <thead>\n",
       "    <tr style=\"text-align: right;\">\n",
       "      <th></th>\n",
       "      <th>text</th>\n",
       "      <th>labels</th>\n",
       "    </tr>\n",
       "  </thead>\n",
       "  <tbody>\n",
       "    <tr>\n",
       "      <th>0</th>\n",
       "      <td>Go until jurong point, crazy.. Available only ...</td>\n",
       "      <td>0</td>\n",
       "    </tr>\n",
       "    <tr>\n",
       "      <th>1</th>\n",
       "      <td>Ok lar... Joking wif u oni...</td>\n",
       "      <td>0</td>\n",
       "    </tr>\n",
       "    <tr>\n",
       "      <th>2</th>\n",
       "      <td>Free entry in 2 a wkly comp to win FA Cup fina...</td>\n",
       "      <td>1</td>\n",
       "    </tr>\n",
       "    <tr>\n",
       "      <th>3</th>\n",
       "      <td>U dun say so early hor... U c already then say...</td>\n",
       "      <td>0</td>\n",
       "    </tr>\n",
       "    <tr>\n",
       "      <th>4</th>\n",
       "      <td>Nah I don't think he goes to usf, he lives aro...</td>\n",
       "      <td>0</td>\n",
       "    </tr>\n",
       "  </tbody>\n",
       "</table>\n",
       "</div>"
      ],
      "text/plain": [
       "                                                text  labels\n",
       "0  Go until jurong point, crazy.. Available only ...       0\n",
       "1                      Ok lar... Joking wif u oni...       0\n",
       "2  Free entry in 2 a wkly comp to win FA Cup fina...       1\n",
       "3  U dun say so early hor... U c already then say...       0\n",
       "4  Nah I don't think he goes to usf, he lives aro...       0"
      ]
     },
     "execution_count": 39,
     "metadata": {},
     "output_type": "execute_result"
    }
   ],
   "source": [
    "spam_data.head()"
   ]
  },
  {
   "cell_type": "code",
   "execution_count": 55,
   "metadata": {},
   "outputs": [
    {
     "name": "stdout",
     "output_type": "stream",
     "text": [
      "4mths half price Orange line rental & latest camera phones 4 FREE. Had your phone 11mths ? Call MobilesDirect free on 08000938767 to update now! or2stoptxt\n",
      "FreeMsg: Hey - I'm Buffy. 25 and love to satisfy men. Home alone feeling randy. Reply 2 C my PIX! QlynnBV Help08700621170150p a msg Send stop to stop txts\n",
      "December only! Had your mobile 11mths+? You are entitled to update to the latest colour camera mobile for Free! Call The Mobile Update Co FREE on 08002986906\n"
     ]
    }
   ],
   "source": [
    "temp_data = spam_data[spam_data.labels == 1].sample(3)\n",
    "with open('predict_test.csv','w') as f:\n",
    "    f.write('data\\n')\n",
    "    for line in temp_data['text'].values:\n",
    "        print(line)\n",
    "        f.write(line + '\\n')"
   ]
  },
  {
   "cell_type": "code",
   "execution_count": 53,
   "metadata": {},
   "outputs": [],
   "source": [
    "test_table = ttd.TabularDataset(\n",
    "    path = 'predict_test.csv',\n",
    "    format = 'csv',\n",
    "    skip_header = True,\n",
    "    fields = [('data',TEXT)]\n",
    ")\n",
    "\n",
    "test_iterator = ttd.Iterator(\n",
    "    test_table,\n",
    "    sort_key = lambda x : len(x.data),\n",
    "    batch_size = 32,\n",
    "    device  = DEVICE\n",
    ")"
   ]
  },
  {
   "cell_type": "code",
   "execution_count": 58,
   "metadata": {},
   "outputs": [
    {
     "name": "stdout",
     "output_type": "stream",
     "text": [
      "\n",
      "[torchtext.data.batch.Batch of size 3]\n",
      "\t[.data]:[torch.cuda.LongTensor of size 3x24 (GPU 0)]\n",
      "tensor([[12.9949],\n",
      "        [10.8043],\n",
      "        [14.3790]], device='cuda:0', grad_fn=<AddmmBackward>)\n"
     ]
    }
   ],
   "source": [
    "for data in test_iterator:\n",
    "    print(data)\n",
    "    out = cnn_model(data.data)\n",
    "    print(out)"
   ]
  },
  {
   "cell_type": "code",
   "execution_count": 66,
   "metadata": {},
   "outputs": [
    {
     "name": "stdout",
     "output_type": "stream",
     "text": [
      "Good evening Sir, hope you are having a nice day. I wanted to bring it to your notice that I have been late in paying rent for the past few months and have had to pay a $ &lt;#&gt;  charge. I felt it would be inconsiderate of me to nag about something you give at great cost to yourself and that's why i didnt speak up. I however am in a recession and wont be able to pay the charge this month hence my askin well ahead of month's end. Can you please help. Thank you for everything.\n"
     ]
    }
   ],
   "source": [
    "## prediting from single sentence\n",
    "single_sent = spam_data['text'].sample(1).values[0]\n",
    "print(single_sent)"
   ]
  },
  {
   "cell_type": "code",
   "execution_count": 70,
   "metadata": {},
   "outputs": [
    {
     "data": {
      "text/plain": [
       "tensor([[-14.9448]], device='cuda:0', grad_fn=<AddmmBackward>)"
      ]
     },
     "execution_count": 70,
     "metadata": {},
     "output_type": "execute_result"
    }
   ],
   "source": [
    "toks = TEXT.preprocess(single_sent)\n",
    "sent_idx = TEXT.numericalize([toks])\n",
    "cnn_model(sent_idx.to(DEVICE))"
   ]
  },
  {
   "cell_type": "code",
   "execution_count": null,
   "metadata": {},
   "outputs": [],
   "source": []
  }
 ],
 "metadata": {
  "kernelspec": {
   "display_name": "Python 3",
   "language": "python",
   "name": "python3"
  },
  "language_info": {
   "codemirror_mode": {
    "name": "ipython",
    "version": 3
   },
   "file_extension": ".py",
   "mimetype": "text/x-python",
   "name": "python",
   "nbconvert_exporter": "python",
   "pygments_lexer": "ipython3",
   "version": "3.6.9"
  }
 },
 "nbformat": 4,
 "nbformat_minor": 4
}
