{
 "cells": [
  {
   "cell_type": "code",
   "execution_count": null,
   "metadata": {},
   "outputs": [],
   "source": [
    "import numpy as np\n",
    "import matplotlib.pyplot as plt\n",
    "import pandas as pd\n",
    "\n",
    "import tensorflow as tf\n",
    "from tensorflow import keras\n",
    "from tensorflow.keras import layers"
   ]
  },
  {
   "cell_type": "code",
   "execution_count": null,
   "metadata": {},
   "outputs": [],
   "source": [
    "max_seq_len = 50 ## length of sequences after padding/truncation\n",
    "embed_size = 768 ## size of embeddings\n",
    "batch_size = 32\n",
    "n_epochs = 10\n",
    "\n",
    "input_shape = [max_seq_len,embed_size]\n",
    "hidden_size = 512 \n",
    "hidden_size2 = 128\n",
    "hidden_size3 = 32\n",
    "output_size = 1"
   ]
  },
  {
   "cell_type": "code",
   "execution_count": null,
   "metadata": {},
   "outputs": [],
   "source": [
    "lstm_model = keras.Sequential([\n",
    "    layers.Input(shape=input_shape),\n",
    "    layers.LSTM(hidden_size,return_sequences=False,activation='relu'),\n",
    "    layers.Dense(hidden_size2,activation='relu'),\n",
    "    layers.Dense(hidden_size3,activation='relu'),\n",
    "    layers.Dense(output_size,activation='sigmoid')\n",
    "])"
   ]
  },
  {
   "cell_type": "code",
   "execution_count": null,
   "metadata": {},
   "outputs": [],
   "source": [
    "lstm_model.compile(\n",
    "    optimizer=keras.optimizers.Adam(0.001),\n",
    "    loss='binary_crossentropy',\n",
    "    metrics=['accuracy']\n",
    ")"
   ]
  },
  {
   "cell_type": "code",
   "execution_count": null,
   "metadata": {},
   "outputs": [],
   "source": [
    "reduce_lr = keras.callbacks.ReduceLROnPlateau(monitor='val_loss', factor=0.2,\n",
    "                              patience=5, min_lr=0.05)"
   ]
  },
  {
   "cell_type": "code",
   "execution_count": null,
   "metadata": {},
   "outputs": [],
   "source": [
    "r = lstm_model.fit(\n",
    "    data_array,train_Y.values,\n",
    "    epochs=n_epochs,\n",
    "    batch_size=batch_size,\n",
    "    validation_data = (data_array_test,test_Y.values),\n",
    "    callbacks=[reduce_lr]\n",
    ")"
   ]
  },
  {
   "cell_type": "code",
   "execution_count": null,
   "metadata": {},
   "outputs": [],
   "source": [
    "_,axes = plt.subplots(1,2,figsize=(10,4))\n",
    "axes[0].plot(r.history['loss'],label ='train loss')\n",
    "axes[0].plot(r.history['val_loss'],label='val loss')\n",
    "\n",
    "axes[1].plot(r.history['accuracy'],label = 'train acc')\n",
    "axes[1].plot(r.history['val_accuracy'],label = 'val acc')\n",
    "\n",
    "plt.legend()"
   ]
  }
 ],
 "metadata": {
  "language_info": {
   "name": "python"
  },
  "orig_nbformat": 4
 },
 "nbformat": 4,
 "nbformat_minor": 2
}
